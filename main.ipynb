{
 "cells": [
  {
   "cell_type": "markdown",
   "id": "9fee5ee9",
   "metadata": {},
   "source": [
    "# Modelo de Examen Practico - TLP3 - Python para Ciencia de Datos.\n"
   ]
  },
  {
   "cell_type": "markdown",
   "id": "999099d0",
   "metadata": {},
   "source": [
    "**A partir del datasets brindado, realizar los siguientes procedimientos:**\n",
    "\n",
    "* Importar datasets con Pandas.\n",
    "* Explorar los datos con los metodos correspondientes. \n",
    "* Limpieza de los datos (Normalización de datos).\n",
    "* Obtener estadisticas.\n",
    "* Mostrar los datos procesados con graficos utilizando la libreria Matplotlib.\n",
    "* Exportar el contenido a un archivo sqlite utilizando PANDAS.\n",
    "\n",
    "\n",
    "**Importante: Se debe documentar cada procedimiento realizado, siguiendo la siguiente estructura:**\n",
    "\n",
    "1. Celda de Markdown (Documentación)\n",
    "2. Código (Sin comentarios, se debe documentar lo sufiente solo en la celda de markdown)."
   ]
  },
  {
   "cell_type": "markdown",
   "id": "dd91f969",
   "metadata": {},
   "source": [
    "## Actividades: \n",
    "### 1. Importación del Dataset con Pandas\n",
    "\n",
    "En esta sección, se debe utilizar la librería Pandas para cargar el archivo CSV que contiene los datos de las calificaciones en un DataFrame, que es la estructura de datos fundamental para el análisis con Pandas.\n",
    "\n",
    "### 2. Exploración Inicial de los Datos\n",
    "\n",
    "A continuación, se deben emplear métodos de Pandas para obtener una visión general del dataset. Esto incluye mostrar las primeras filas, obtener un resumen de la información del DataFrame (tipos de datos, valores no nulos), y calcular estadísticas descriptivas de las columnas numéricas.\n",
    "\n",
    "### 3. Limpieza y Normalización de los Datos\n",
    "\n",
    "Esta etapa crucial deben aplicar la corrección de diversos errores presentes en el dataset. Se abordarán los valores faltantes, la inconsistencia en el formato de la columna 'Asistencia', los posibles valores atípicos y la normalización de los nombres de estudiantes y materias a un formato consistente (por ejemplo, capitalización).\n",
    "\n",
    "### 4. Obtención de Estadísticas Descriptivas\n",
    "\n",
    "Después de la limpieza, deben calcular nuevamente las estadísticas descriptivas para observar el impacto del proceso de limpieza en los datos numéricos. También se pueden calcular estadísticas específicas por grupo (por ejemplo, promedio de calificaciones por materia).\n",
    "\n",
    "### 5. Visualización de los Datos con Matplotlib\n",
    "\n",
    "En esta sección, deben utilizar la librería Matplotlib para crear visualizaciones que permitan comprender mejor la distribución de las calificaciones y la asistencia. Se generarán histogramas, diagramas de dispersión y gráficos de barras.\n",
    "\n",
    "### 6. Exportación a Archivo SQLite\n",
    "\n",
    "Finalmente, deben utilizar la funcionalidad de Pandas para guardar el DataFrame procesado en una base de datos SQLite. Esto permite almacenar los datos de forma estructurada para su posterior consulta y uso.\n",
    "\n"
   ]
  },
  {
   "cell_type": "code",
   "execution_count": 238,
   "id": "7e3f57ad",
   "metadata": {},
   "outputs": [],
   "source": [
    "# IMPORTACIONES:\n",
    "import pandas as pd\n",
    "import matplotlib.pyplot as plt\n",
    "import numpy as np"
   ]
  },
  {
   "cell_type": "markdown",
   "id": "35f6c365",
   "metadata": {},
   "source": [
    "## Ejercicio 1: Importación del dataset con Pandas"
   ]
  },
  {
   "cell_type": "markdown",
   "id": "66660068",
   "metadata": {},
   "source": [
    "- Nos conectamos al data set usando \"pd.read_csv()\"\n",
    "- Con \"index_col=False\" le decimos que no nos cree una columna de índices.\n",
    "- Con \"df.head()\" imprimimos las 5 primeras filas del dataset."
   ]
  },
  {
   "cell_type": "code",
   "execution_count": 239,
   "id": "ad440f2f",
   "metadata": {},
   "outputs": [
    {
     "data": {
      "text/html": [
       "<div>\n",
       "<style scoped>\n",
       "    .dataframe tbody tr th:only-of-type {\n",
       "        vertical-align: middle;\n",
       "    }\n",
       "\n",
       "    .dataframe tbody tr th {\n",
       "        vertical-align: top;\n",
       "    }\n",
       "\n",
       "    .dataframe thead th {\n",
       "        text-align: right;\n",
       "    }\n",
       "</style>\n",
       "<table border=\"1\" class=\"dataframe\">\n",
       "  <thead>\n",
       "    <tr style=\"text-align: right;\">\n",
       "      <th></th>\n",
       "      <th>estudiante</th>\n",
       "      <th>Materia</th>\n",
       "      <th>Parcial 1</th>\n",
       "      <th>Parcial 2</th>\n",
       "      <th>Final</th>\n",
       "      <th>Asistencia</th>\n",
       "    </tr>\n",
       "  </thead>\n",
       "  <tbody>\n",
       "    <tr>\n",
       "      <th>0</th>\n",
       "      <td>ana pérez</td>\n",
       "      <td>matematicas</td>\n",
       "      <td>8</td>\n",
       "      <td>7.5</td>\n",
       "      <td>9</td>\n",
       "      <td>95%</td>\n",
       "    </tr>\n",
       "    <tr>\n",
       "      <th>1</th>\n",
       "      <td>carlos lópez</td>\n",
       "      <td>fisica</td>\n",
       "      <td>6.2</td>\n",
       "      <td>7</td>\n",
       "      <td>NaN</td>\n",
       "      <td>88%</td>\n",
       "    </tr>\n",
       "    <tr>\n",
       "      <th>2</th>\n",
       "      <td>maría gómez</td>\n",
       "      <td>quimica</td>\n",
       "      <td>9</td>\n",
       "      <td>8.8</td>\n",
       "      <td>9.5</td>\n",
       "      <td>100%</td>\n",
       "    </tr>\n",
       "    <tr>\n",
       "      <th>3</th>\n",
       "      <td>pedro rodríguez</td>\n",
       "      <td>historia</td>\n",
       "      <td>7.5</td>\n",
       "      <td>6</td>\n",
       "      <td>7</td>\n",
       "      <td>75</td>\n",
       "    </tr>\n",
       "    <tr>\n",
       "      <th>4</th>\n",
       "      <td>laura vargas</td>\n",
       "      <td>matematicas</td>\n",
       "      <td></td>\n",
       "      <td>9.2</td>\n",
       "      <td>8.5</td>\n",
       "      <td>92%</td>\n",
       "    </tr>\n",
       "  </tbody>\n",
       "</table>\n",
       "</div>"
      ],
      "text/plain": [
       "        estudiante      Materia Parcial 1 Parcial 2 Final Asistencia\n",
       "0        ana pérez  matematicas         8       7.5     9        95%\n",
       "1     carlos lópez       fisica       6.2         7   NaN        88%\n",
       "2      maría gómez      quimica         9       8.8   9.5       100%\n",
       "3  pedro rodríguez     historia       7.5         6     7         75\n",
       "4     laura vargas  matematicas                 9.2   8.5        92%"
      ]
     },
     "execution_count": 239,
     "metadata": {},
     "output_type": "execute_result"
    }
   ],
   "source": [
    "df = pd.read_csv('datasets_calificaciones.csv', index_col=False)\n",
    "df.head()"
   ]
  },
  {
   "cell_type": "markdown",
   "id": "dcde5cc3",
   "metadata": {},
   "source": [
    "## Ejercicio 2: Exploración inicial de los datos"
   ]
  },
  {
   "cell_type": "markdown",
   "id": "26402cee",
   "metadata": {},
   "source": [
    "- Usando \"df.info()\" imprimimos las estadísticas de las columnas.\n",
    "- Con \"df.isnull().sum()\" sabemos cuantos campos vacíos tiene cada columna. "
   ]
  },
  {
   "cell_type": "code",
   "execution_count": 240,
   "id": "8922751c",
   "metadata": {},
   "outputs": [
    {
     "name": "stdout",
     "output_type": "stream",
     "text": [
      "<class 'pandas.core.frame.DataFrame'>\n",
      "RangeIndex: 100 entries, 0 to 99\n",
      "Data columns (total 6 columns):\n",
      " #   Column      Non-Null Count  Dtype \n",
      "---  ------      --------------  ----- \n",
      " 0   estudiante  100 non-null    object\n",
      " 1   Materia     100 non-null    object\n",
      " 2   Parcial 1   95 non-null     object\n",
      " 3   Parcial 2   90 non-null     object\n",
      " 4   Final       89 non-null     object\n",
      " 5   Asistencia  100 non-null    object\n",
      "dtypes: object(6)\n",
      "memory usage: 4.8+ KB\n"
     ]
    },
    {
     "data": {
      "text/plain": [
       "estudiante     0\n",
       "Materia        0\n",
       "Parcial 1      5\n",
       "Parcial 2     10\n",
       "Final         11\n",
       "Asistencia     0\n",
       "dtype: int64"
      ]
     },
     "execution_count": 240,
     "metadata": {},
     "output_type": "execute_result"
    }
   ],
   "source": [
    "df.info()\n",
    "df.isnull().sum()"
   ]
  },
  {
   "cell_type": "markdown",
   "id": "5c957a8c",
   "metadata": {},
   "source": [
    "## Ejercicio 3: Limpieza y normalización de los datos"
   ]
  },
  {
   "cell_type": "markdown",
   "id": "497673b4",
   "metadata": {},
   "source": [
    "**Conversión de columnas numéricas:**\n",
    "\n",
    "- Seleccionamos las columnas que deberían ser numéricas y las convertimos en numéricas usando \"pd.to_numeric\". Con \"errors='coerce'\" forzamos a que si se encuentra un campo vacío, entonces se agregue \"NaN\".\n",
    "- Con \"df.info()\" y \"df.head()\" comprobamos que haya salido bien."
   ]
  },
  {
   "cell_type": "code",
   "execution_count": 241,
   "id": "f3e35d08",
   "metadata": {},
   "outputs": [
    {
     "name": "stdout",
     "output_type": "stream",
     "text": [
      "<class 'pandas.core.frame.DataFrame'>\n",
      "RangeIndex: 100 entries, 0 to 99\n",
      "Data columns (total 6 columns):\n",
      " #   Column      Non-Null Count  Dtype  \n",
      "---  ------      --------------  -----  \n",
      " 0   estudiante  100 non-null    object \n",
      " 1   Materia     100 non-null    object \n",
      " 2   Parcial 1   88 non-null     float64\n",
      " 3   Parcial 2   88 non-null     float64\n",
      " 4   Final       85 non-null     float64\n",
      " 5   Asistencia  100 non-null    object \n",
      "dtypes: float64(3), object(3)\n",
      "memory usage: 4.8+ KB\n"
     ]
    },
    {
     "data": {
      "text/html": [
       "<div>\n",
       "<style scoped>\n",
       "    .dataframe tbody tr th:only-of-type {\n",
       "        vertical-align: middle;\n",
       "    }\n",
       "\n",
       "    .dataframe tbody tr th {\n",
       "        vertical-align: top;\n",
       "    }\n",
       "\n",
       "    .dataframe thead th {\n",
       "        text-align: right;\n",
       "    }\n",
       "</style>\n",
       "<table border=\"1\" class=\"dataframe\">\n",
       "  <thead>\n",
       "    <tr style=\"text-align: right;\">\n",
       "      <th></th>\n",
       "      <th>estudiante</th>\n",
       "      <th>Materia</th>\n",
       "      <th>Parcial 1</th>\n",
       "      <th>Parcial 2</th>\n",
       "      <th>Final</th>\n",
       "      <th>Asistencia</th>\n",
       "    </tr>\n",
       "  </thead>\n",
       "  <tbody>\n",
       "    <tr>\n",
       "      <th>0</th>\n",
       "      <td>ana pérez</td>\n",
       "      <td>matematicas</td>\n",
       "      <td>8.0</td>\n",
       "      <td>7.5</td>\n",
       "      <td>9.0</td>\n",
       "      <td>95%</td>\n",
       "    </tr>\n",
       "    <tr>\n",
       "      <th>1</th>\n",
       "      <td>carlos lópez</td>\n",
       "      <td>fisica</td>\n",
       "      <td>6.2</td>\n",
       "      <td>7.0</td>\n",
       "      <td>NaN</td>\n",
       "      <td>88%</td>\n",
       "    </tr>\n",
       "    <tr>\n",
       "      <th>2</th>\n",
       "      <td>maría gómez</td>\n",
       "      <td>quimica</td>\n",
       "      <td>9.0</td>\n",
       "      <td>8.8</td>\n",
       "      <td>9.5</td>\n",
       "      <td>100%</td>\n",
       "    </tr>\n",
       "    <tr>\n",
       "      <th>3</th>\n",
       "      <td>pedro rodríguez</td>\n",
       "      <td>historia</td>\n",
       "      <td>7.5</td>\n",
       "      <td>6.0</td>\n",
       "      <td>7.0</td>\n",
       "      <td>75</td>\n",
       "    </tr>\n",
       "    <tr>\n",
       "      <th>4</th>\n",
       "      <td>laura vargas</td>\n",
       "      <td>matematicas</td>\n",
       "      <td>NaN</td>\n",
       "      <td>9.2</td>\n",
       "      <td>8.5</td>\n",
       "      <td>92%</td>\n",
       "    </tr>\n",
       "  </tbody>\n",
       "</table>\n",
       "</div>"
      ],
      "text/plain": [
       "        estudiante      Materia  Parcial 1  Parcial 2  Final Asistencia\n",
       "0        ana pérez  matematicas        8.0        7.5    9.0        95%\n",
       "1     carlos lópez       fisica        6.2        7.0    NaN        88%\n",
       "2      maría gómez      quimica        9.0        8.8    9.5       100%\n",
       "3  pedro rodríguez     historia        7.5        6.0    7.0         75\n",
       "4     laura vargas  matematicas        NaN        9.2    8.5        92%"
      ]
     },
     "execution_count": 241,
     "metadata": {},
     "output_type": "execute_result"
    }
   ],
   "source": [
    "df[\"Parcial 1\"] = pd.to_numeric(df[\"Parcial 1\"], errors='coerce')\n",
    "df[\"Parcial 2\"] = pd.to_numeric(df[\"Parcial 2\"], errors='coerce')\n",
    "df[\"Final\"] = pd.to_numeric(df[\"Final\"], errors='coerce')\n",
    "\n",
    "df.info()\n",
    "df.head()"
   ]
  },
  {
   "cell_type": "markdown",
   "id": "4bf786ee",
   "metadata": {},
   "source": [
    "**Rellenar datos faltantes en las filas numéricas**\n",
    "\n",
    "- Si hay campos con \"NaN\" entonces seleccionamos la columna, sacamos el promedio de esa columna con \".mean()\", insertamos el promedio en los campos vacíos con \".fillna()\" y limitamos a 2 decimales con \".round(2)\". "
   ]
  },
  {
   "cell_type": "code",
   "execution_count": 242,
   "id": "b76914bb",
   "metadata": {},
   "outputs": [
    {
     "data": {
      "text/html": [
       "<div>\n",
       "<style scoped>\n",
       "    .dataframe tbody tr th:only-of-type {\n",
       "        vertical-align: middle;\n",
       "    }\n",
       "\n",
       "    .dataframe tbody tr th {\n",
       "        vertical-align: top;\n",
       "    }\n",
       "\n",
       "    .dataframe thead th {\n",
       "        text-align: right;\n",
       "    }\n",
       "</style>\n",
       "<table border=\"1\" class=\"dataframe\">\n",
       "  <thead>\n",
       "    <tr style=\"text-align: right;\">\n",
       "      <th></th>\n",
       "      <th>estudiante</th>\n",
       "      <th>Materia</th>\n",
       "      <th>Parcial 1</th>\n",
       "      <th>Parcial 2</th>\n",
       "      <th>Final</th>\n",
       "      <th>Asistencia</th>\n",
       "    </tr>\n",
       "  </thead>\n",
       "  <tbody>\n",
       "    <tr>\n",
       "      <th>0</th>\n",
       "      <td>ana pérez</td>\n",
       "      <td>matematicas</td>\n",
       "      <td>8.00</td>\n",
       "      <td>7.5</td>\n",
       "      <td>9.00</td>\n",
       "      <td>95%</td>\n",
       "    </tr>\n",
       "    <tr>\n",
       "      <th>1</th>\n",
       "      <td>carlos lópez</td>\n",
       "      <td>fisica</td>\n",
       "      <td>6.20</td>\n",
       "      <td>7.0</td>\n",
       "      <td>7.89</td>\n",
       "      <td>88%</td>\n",
       "    </tr>\n",
       "    <tr>\n",
       "      <th>2</th>\n",
       "      <td>maría gómez</td>\n",
       "      <td>quimica</td>\n",
       "      <td>9.00</td>\n",
       "      <td>8.8</td>\n",
       "      <td>9.50</td>\n",
       "      <td>100%</td>\n",
       "    </tr>\n",
       "    <tr>\n",
       "      <th>3</th>\n",
       "      <td>pedro rodríguez</td>\n",
       "      <td>historia</td>\n",
       "      <td>7.50</td>\n",
       "      <td>6.0</td>\n",
       "      <td>7.00</td>\n",
       "      <td>75</td>\n",
       "    </tr>\n",
       "    <tr>\n",
       "      <th>4</th>\n",
       "      <td>laura vargas</td>\n",
       "      <td>matematicas</td>\n",
       "      <td>7.83</td>\n",
       "      <td>9.2</td>\n",
       "      <td>8.50</td>\n",
       "      <td>92%</td>\n",
       "    </tr>\n",
       "  </tbody>\n",
       "</table>\n",
       "</div>"
      ],
      "text/plain": [
       "        estudiante      Materia  Parcial 1  Parcial 2  Final Asistencia\n",
       "0        ana pérez  matematicas       8.00        7.5   9.00        95%\n",
       "1     carlos lópez       fisica       6.20        7.0   7.89        88%\n",
       "2      maría gómez      quimica       9.00        8.8   9.50       100%\n",
       "3  pedro rodríguez     historia       7.50        6.0   7.00         75\n",
       "4     laura vargas  matematicas       7.83        9.2   8.50        92%"
      ]
     },
     "execution_count": 242,
     "metadata": {},
     "output_type": "execute_result"
    }
   ],
   "source": [
    "df[\"Parcial 1\"] = df[\"Parcial 1\"].fillna(df[\"Parcial 1\"].mean()).round(2)\n",
    "df[\"Parcial 2\"] = df[\"Parcial 2\"].fillna(df[\"Parcial 2\"].mean()).round(2)\n",
    "df[\"Final\"] = df[\"Final\"].fillna(df[\"Final\"].mean()).round(2) \n",
    "\n",
    "df.head()"
   ]
  },
  {
   "cell_type": "markdown",
   "id": "bf743cba",
   "metadata": {},
   "source": [
    "**Conversión de la columna de asistencia**\n",
    "\n",
    "- Se borra el símbolo del porcentaje de todas las filas de la columna \"Asistencia\" usando \".str.replace(\"%\", \"\").\n",
    "- Convertimos el tipo de dato a numérico con \".astype(int)\".\n",
    "- Luego con \".clip(100, upper=True)\" le decimos que el porcentaje no puede sobrepasar los 100, si es mayor a 100, entonces se redondea a 100 exacto y con \".astype(str)\" lo convertimos a String otra vez para concatenar el símbolo de porcentaje."
   ]
  },
  {
   "cell_type": "code",
   "execution_count": 243,
   "id": "2d17b2bb",
   "metadata": {},
   "outputs": [
    {
     "data": {
      "text/html": [
       "<div>\n",
       "<style scoped>\n",
       "    .dataframe tbody tr th:only-of-type {\n",
       "        vertical-align: middle;\n",
       "    }\n",
       "\n",
       "    .dataframe tbody tr th {\n",
       "        vertical-align: top;\n",
       "    }\n",
       "\n",
       "    .dataframe thead th {\n",
       "        text-align: right;\n",
       "    }\n",
       "</style>\n",
       "<table border=\"1\" class=\"dataframe\">\n",
       "  <thead>\n",
       "    <tr style=\"text-align: right;\">\n",
       "      <th></th>\n",
       "      <th>estudiante</th>\n",
       "      <th>Materia</th>\n",
       "      <th>Parcial 1</th>\n",
       "      <th>Parcial 2</th>\n",
       "      <th>Final</th>\n",
       "      <th>Asistencia</th>\n",
       "    </tr>\n",
       "  </thead>\n",
       "  <tbody>\n",
       "    <tr>\n",
       "      <th>0</th>\n",
       "      <td>ana pérez</td>\n",
       "      <td>matematicas</td>\n",
       "      <td>8.00</td>\n",
       "      <td>7.5</td>\n",
       "      <td>9.00</td>\n",
       "      <td>95%</td>\n",
       "    </tr>\n",
       "    <tr>\n",
       "      <th>1</th>\n",
       "      <td>carlos lópez</td>\n",
       "      <td>fisica</td>\n",
       "      <td>6.20</td>\n",
       "      <td>7.0</td>\n",
       "      <td>7.89</td>\n",
       "      <td>88%</td>\n",
       "    </tr>\n",
       "    <tr>\n",
       "      <th>2</th>\n",
       "      <td>maría gómez</td>\n",
       "      <td>quimica</td>\n",
       "      <td>9.00</td>\n",
       "      <td>8.8</td>\n",
       "      <td>9.50</td>\n",
       "      <td>100%</td>\n",
       "    </tr>\n",
       "    <tr>\n",
       "      <th>3</th>\n",
       "      <td>pedro rodríguez</td>\n",
       "      <td>historia</td>\n",
       "      <td>7.50</td>\n",
       "      <td>6.0</td>\n",
       "      <td>7.00</td>\n",
       "      <td>75%</td>\n",
       "    </tr>\n",
       "    <tr>\n",
       "      <th>4</th>\n",
       "      <td>laura vargas</td>\n",
       "      <td>matematicas</td>\n",
       "      <td>7.83</td>\n",
       "      <td>9.2</td>\n",
       "      <td>8.50</td>\n",
       "      <td>92%</td>\n",
       "    </tr>\n",
       "  </tbody>\n",
       "</table>\n",
       "</div>"
      ],
      "text/plain": [
       "        estudiante      Materia  Parcial 1  Parcial 2  Final Asistencia\n",
       "0        ana pérez  matematicas       8.00        7.5   9.00        95%\n",
       "1     carlos lópez       fisica       6.20        7.0   7.89        88%\n",
       "2      maría gómez      quimica       9.00        8.8   9.50       100%\n",
       "3  pedro rodríguez     historia       7.50        6.0   7.00        75%\n",
       "4     laura vargas  matematicas       7.83        9.2   8.50        92%"
      ]
     },
     "execution_count": 243,
     "metadata": {},
     "output_type": "execute_result"
    }
   ],
   "source": [
    "df[\"Asistencia\"] = df[\"Asistencia\"].str.replace(\"%\", \"\").astype(int)\n",
    "df[\"Asistencia\"] = df[\"Asistencia\"].clip(100, upper=True).astype(str) + \"%\" \n",
    "df.head(5)"
   ]
  },
  {
   "cell_type": "markdown",
   "id": "35b06580",
   "metadata": {},
   "source": [
    "**Capitalizar las columnas \"Estudiante\" y \"Materia\"**\n",
    "\n",
    "- Con \"df.rename(columns={\"estudiante\": \"Estudiante\"})\" hacemos que el nombre de la columna \"estudiante\" pase a tener la primer \"e\" en mayúscula (Estudiante).\n",
    "- Con el método \".str.title()\" hacemos que que cada palabra de cada fila de las dos columnas seleccionadas empiecen con mayúscula."
   ]
  },
  {
   "cell_type": "code",
   "execution_count": 244,
   "id": "8d9e2fee",
   "metadata": {},
   "outputs": [
    {
     "data": {
      "text/html": [
       "<div>\n",
       "<style scoped>\n",
       "    .dataframe tbody tr th:only-of-type {\n",
       "        vertical-align: middle;\n",
       "    }\n",
       "\n",
       "    .dataframe tbody tr th {\n",
       "        vertical-align: top;\n",
       "    }\n",
       "\n",
       "    .dataframe thead th {\n",
       "        text-align: right;\n",
       "    }\n",
       "</style>\n",
       "<table border=\"1\" class=\"dataframe\">\n",
       "  <thead>\n",
       "    <tr style=\"text-align: right;\">\n",
       "      <th></th>\n",
       "      <th>Estudiante</th>\n",
       "      <th>Materia</th>\n",
       "      <th>Parcial 1</th>\n",
       "      <th>Parcial 2</th>\n",
       "      <th>Final</th>\n",
       "      <th>Asistencia</th>\n",
       "    </tr>\n",
       "  </thead>\n",
       "  <tbody>\n",
       "    <tr>\n",
       "      <th>0</th>\n",
       "      <td>Ana Pérez</td>\n",
       "      <td>Matematicas</td>\n",
       "      <td>8.00</td>\n",
       "      <td>7.5</td>\n",
       "      <td>9.00</td>\n",
       "      <td>95%</td>\n",
       "    </tr>\n",
       "    <tr>\n",
       "      <th>1</th>\n",
       "      <td>Carlos López</td>\n",
       "      <td>Fisica</td>\n",
       "      <td>6.20</td>\n",
       "      <td>7.0</td>\n",
       "      <td>7.89</td>\n",
       "      <td>88%</td>\n",
       "    </tr>\n",
       "    <tr>\n",
       "      <th>2</th>\n",
       "      <td>María Gómez</td>\n",
       "      <td>Quimica</td>\n",
       "      <td>9.00</td>\n",
       "      <td>8.8</td>\n",
       "      <td>9.50</td>\n",
       "      <td>100%</td>\n",
       "    </tr>\n",
       "    <tr>\n",
       "      <th>3</th>\n",
       "      <td>Pedro Rodríguez</td>\n",
       "      <td>Historia</td>\n",
       "      <td>7.50</td>\n",
       "      <td>6.0</td>\n",
       "      <td>7.00</td>\n",
       "      <td>75%</td>\n",
       "    </tr>\n",
       "    <tr>\n",
       "      <th>4</th>\n",
       "      <td>Laura Vargas</td>\n",
       "      <td>Matematicas</td>\n",
       "      <td>7.83</td>\n",
       "      <td>9.2</td>\n",
       "      <td>8.50</td>\n",
       "      <td>92%</td>\n",
       "    </tr>\n",
       "  </tbody>\n",
       "</table>\n",
       "</div>"
      ],
      "text/plain": [
       "        Estudiante      Materia  Parcial 1  Parcial 2  Final Asistencia\n",
       "0        Ana Pérez  Matematicas       8.00        7.5   9.00        95%\n",
       "1     Carlos López       Fisica       6.20        7.0   7.89        88%\n",
       "2      María Gómez      Quimica       9.00        8.8   9.50       100%\n",
       "3  Pedro Rodríguez     Historia       7.50        6.0   7.00        75%\n",
       "4     Laura Vargas  Matematicas       7.83        9.2   8.50        92%"
      ]
     },
     "execution_count": 244,
     "metadata": {},
     "output_type": "execute_result"
    }
   ],
   "source": [
    "df = df.rename(columns={\"estudiante\": \"Estudiante\"})\n",
    "df[\"Estudiante\"] = df[\"Estudiante\"].str.title()\n",
    "df[\"Materia\"] = df[\"Materia\"].str.title()\n",
    "df.head()"
   ]
  },
  {
   "cell_type": "markdown",
   "id": "b8456cf9",
   "metadata": {},
   "source": [
    "## Ejercicio 4: Obtención de estadísticas descriptivas"
   ]
  },
  {
   "cell_type": "markdown",
   "id": "039cc724",
   "metadata": {},
   "source": [
    "- Obtenemos nuevamente la descripción de cada columna para ver si se logró normalizar el dataset."
   ]
  },
  {
   "cell_type": "code",
   "execution_count": 245,
   "id": "5e11db5b",
   "metadata": {},
   "outputs": [
    {
     "name": "stdout",
     "output_type": "stream",
     "text": [
      "<class 'pandas.core.frame.DataFrame'>\n",
      "RangeIndex: 100 entries, 0 to 99\n",
      "Data columns (total 6 columns):\n",
      " #   Column      Non-Null Count  Dtype  \n",
      "---  ------      --------------  -----  \n",
      " 0   Estudiante  100 non-null    object \n",
      " 1   Materia     100 non-null    object \n",
      " 2   Parcial 1   100 non-null    float64\n",
      " 3   Parcial 2   100 non-null    float64\n",
      " 4   Final       100 non-null    float64\n",
      " 5   Asistencia  100 non-null    object \n",
      "dtypes: float64(3), object(3)\n",
      "memory usage: 4.8+ KB\n"
     ]
    }
   ],
   "source": [
    "df.info()"
   ]
  },
  {
   "cell_type": "markdown",
   "id": "c84a234c",
   "metadata": {},
   "source": [
    "## 5. Visualización de los Datos con Matplotlib"
   ]
  },
  {
   "cell_type": "markdown",
   "id": "c9d4a2b3",
   "metadata": {},
   "source": [
    "### **HISTOGRAMAS**"
   ]
  },
  {
   "cell_type": "markdown",
   "id": "e5ca210f",
   "metadata": {},
   "source": [
    "**Realizamos los histogramas para las columnas de Parcial 1, Parcial 2 y Final.**\n",
    "\n",
    "- Con \"plt.figure(figsize=(12, 4))\" le estamos diciendo que los histogramas van a medir 12 pulgadas de ancho y 4 de alto.\n",
    "- Con \"plt.subplot(\"fila\", \"columnas\", \"posicion\")\" especificamos cuantas filas, columnas y en que posición estará el gráfico al que se la aplique.\n",
    "- En \"plt.hist(df[\"columna X\"].dropna(), bins=10, color='skyblue', edgecolor='black')\" seleccionamos la columna de la cual haremos el gráfico, eliminamos posibles campos vacíos (\".dropna()\"), especificamos la cantidad de barras (bins), el color de las barras (color) y el color del contorno de las barras (edgecolor).\n",
    "- \"plt.title (\"texto\")\": Será el titulo del gráfico.\n",
    "- \"plt.xlabel(\"texto\"): Será el texto en el eje X del gráfico.\n",
    "- \"plt.ylabel(\"texto\"): Será el texto en el eje Y del gráfico."
   ]
  },
  {
   "cell_type": "code",
   "execution_count": 246,
   "id": "fa2dce4a",
   "metadata": {},
   "outputs": [
    {
     "data": {
      "image/png": "[encoded data removed]",
      "text/plain": [
       "<Figure size 1200x400 with 3 Axes>"
      ]
     },
     "metadata": {},
     "output_type": "display_data"
    }
   ],
   "source": [
    "plt.figure(figsize=(12, 4))\n",
    "\n",
    "plt.subplot(1, 3, 1)\n",
    "plt.hist(df['Parcial 1'].dropna(), bins=10, color='skyblue', edgecolor='black')\n",
    "plt.yticks(range(0, 35, 5))\n",
    "plt.grid(axis='y', linestyle='-', alpha=0.5, color='black')\n",
    "plt.title('Distribución Parcial 1')\n",
    "plt.xlabel('Nota')\n",
    "plt.ylabel('Estudiantes')\n",
    "\n",
    "plt.subplot(1, 3, 2)\n",
    "plt.hist(df['Parcial 2'].dropna(), bins=10, color='orange', edgecolor='black')\n",
    "plt.yticks(range(0, 35, 5))\n",
    "plt.grid(axis='y', linestyle='-', alpha=0.5, color='black')\n",
    "plt.title('Distribución Parcial 2')\n",
    "\n",
    "plt.subplot(1, 3, 3)\n",
    "plt.hist(df['Final'].dropna(), bins=10, color='green', edgecolor='black')\n",
    "plt.yticks(range(0, 35, 5))\n",
    "plt.grid(axis='y', linestyle='-', alpha=0.5, color='black')\n",
    "plt.title('Distribución Final')\n",
    "\n",
    "plt.tight_layout()\n",
    "plt.show()\n"
   ]
  },
  {
   "cell_type": "markdown",
   "id": "e2985f3b",
   "metadata": {},
   "source": [
    "**Realizamos el histograma de asistencia.**\n",
    "\n",
    "- En \"Asistencia_num = df[\"Asistencia\"]\" creamos una serie numérica temporal a partir de la columna \"Asistencia\".\n",
    "\n",
    "- Se elimina el símbolo % con \".str.replace(\"%\", \"\")\".\n",
    "\n",
    "- Se convierte a entero con \".astype(int)\".\n",
    "\n",
    "Esto se hace para poder trabajar con datos numéricos en el gráfico, sin modificar el DataFrame original."
   ]
  },
  {
   "cell_type": "code",
   "execution_count": 247,
   "id": "6199ba67",
   "metadata": {},
   "outputs": [
    {
     "data": {
      "image/png": "[encoded data removed]",
      "text/plain": [
       "<Figure size 1200x400 with 1 Axes>"
      ]
     },
     "metadata": {},
     "output_type": "display_data"
    }
   ],
   "source": [
    "Asistencia_num = df[\"Asistencia\"].str.replace(\"%\", \"\").astype(int)\n",
    "\n",
    "plt.figure(figsize=(12, 4))\n",
    "plt.hist(Asistencia_num, bins=range(0, 110, 10), color='purple', edgecolor='black')\n",
    "plt.title('Distribución de Asistencias')\n",
    "plt.xlabel('Porcentaje de Asistencia')\n",
    "plt.ylabel('Estudiantes')\n",
    "plt.yticks(range(0, 60, 10))\n",
    "plt.xticks(range(0, 110, 10), [f\"{i}%\" for i in range(0, 110, 10)])\n",
    "plt.grid(axis='y', linestyle='-', alpha=0.5, color='black')\n",
    "plt.show()\n"
   ]
  },
  {
   "cell_type": "markdown",
   "id": "4a44485f",
   "metadata": {},
   "source": [
    "### **DIAGRAMAS DE DISPERSIÓN**"
   ]
  },
  {
   "cell_type": "markdown",
   "id": "a796c88c",
   "metadata": {},
   "source": [
    "**Realizamos los diagramas de dispersión para las columnas de Parcial 1, Parcial 2 y Final.**\n",
    "\n",
    "- Acá se cambio \"plt.hist()\" por \"plt.scatter()\" para hacer el diagrama de dispersión.\n",
    "- Guardamos el contenido de la columna (a la cual aplicar el gráfico) en una variable (notas1).\n",
    "- Donde \"notas1\" serían los puntajes y \"range(len(notas1))\" la cantidad de estudiantes."
   ]
  },
  {
   "cell_type": "code",
   "execution_count": 248,
   "id": "0e932a2f",
   "metadata": {},
   "outputs": [
    {
     "data": {
      "image/png": "[encoded data removed]",
      "text/plain": [
       "<Figure size 1200x400 with 3 Axes>"
      ]
     },
     "metadata": {},
     "output_type": "display_data"
    }
   ],
   "source": [
    "plt.figure(figsize=(12, 4))\n",
    "\n",
    "plt.subplot(1, 3, 1)\n",
    "notas1 = df['Parcial 1'].dropna()\n",
    "plt.scatter(notas1, range(len(notas1)), color='skyblue', edgecolor='black')\n",
    "plt.xticks(range(5, 11))\n",
    "plt.title('Distribución Parcial 1')\n",
    "plt.xlabel('Nota')\n",
    "plt.ylabel('Estudiantes')\n",
    "plt.grid(axis='x', linestyle='-', alpha=0.5, color='black')\n",
    "\n",
    "plt.subplot(1, 3, 2)\n",
    "notas2 = df['Parcial 2'].dropna()\n",
    "plt.scatter(notas2, range(len(notas2)), color='orange', edgecolor='black')\n",
    "plt.xticks(range(5, 11))\n",
    "plt.title('Distribución Parcial 2')\n",
    "plt.xlabel('Nota')\n",
    "plt.grid(axis='x', linestyle='-', alpha=0.5, color='black')\n",
    "\n",
    "plt.subplot(1, 3, 3)\n",
    "notas3 = df['Final'].dropna()\n",
    "plt.scatter(notas3, range(len(notas3)), color='green', edgecolor='black')\n",
    "plt.xticks(range(5, 11))\n",
    "plt.title('Distribución Final')\n",
    "plt.xlabel('Nota')\n",
    "plt.grid(axis='x', linestyle='-', alpha=0.5, color='black')\n",
    "\n",
    "plt.tight_layout()\n",
    "plt.show()\n"
   ]
  },
  {
   "cell_type": "markdown",
   "id": "6b681504",
   "metadata": {},
   "source": [
    "**Realizamos el diagrama de dispersión de asistencia.**"
   ]
  },
  {
   "cell_type": "markdown",
   "id": "45e961d8",
   "metadata": {},
   "source": [
    "Acá es lo mismo que el gráfico anterior, hacemos uso de la variable temporal creada anteriormente (Asistencia_num)."
   ]
  },
  {
   "cell_type": "code",
   "execution_count": 249,
   "id": "1d918031",
   "metadata": {},
   "outputs": [
    {
     "data": {
      "image/png": "[encoded data removed]",
      "text/plain": [
       "<Figure size 1200x400 with 1 Axes>"
      ]
     },
     "metadata": {},
     "output_type": "display_data"
    }
   ],
   "source": [
    "plt.figure(figsize=(12, 4))\n",
    "plt.scatter(Asistencia_num, df.index, color='purple', edgecolor='black')\n",
    "plt.title('Distribución de Asistencias')\n",
    "plt.xlabel('Porcentaje de Asistencia')\n",
    "plt.ylabel('Estudiantes')\n",
    "plt.xticks(range(0, 110, 10), [f\"{i}%\" for i in range(0, 110, 10)])\n",
    "plt.grid(axis='y', linestyle='-', alpha=0.5, color='black')\n",
    "plt.show()\n"
   ]
  },
  {
   "cell_type": "markdown",
   "id": "66948bed",
   "metadata": {},
   "source": [
    "### **GRÁFICO DE BARRAS**"
   ]
  },
  {
   "cell_type": "markdown",
   "id": "3d776a0f",
   "metadata": {},
   "source": [
    "**Realizamos los gráficos de barras para las columnas de Parcial 1, Parcial 2 y Final.**"
   ]
  },
  {
   "cell_type": "code",
   "execution_count": 250,
   "id": "e39f6735",
   "metadata": {},
   "outputs": [
    {
     "data": {
      "image/png": "[encoded data removed]",
      "text/plain": [
       "<Figure size 1200x400 with 3 Axes>"
      ]
     },
     "metadata": {},
     "output_type": "display_data"
    }
   ],
   "source": [
    "# Configurar tamaño de la figura\n",
    "plt.figure(figsize=(12, 4))\n",
    "\n",
    "# Parcial 1\n",
    "plt.subplot(1, 3, 1)\n",
    "counts, bins = np.histogram(df['Parcial 1'].dropna(), bins=10)\n",
    "plt.bar(bins[:-1], counts, width=np.diff(bins), color='skyblue', edgecolor='black', align='edge')\n",
    "plt.yticks(range(0, 35, 5))\n",
    "plt.grid(axis='y', linestyle='-', alpha=0.5, color='black')\n",
    "plt.title('Distribución Parcial 1')\n",
    "plt.xlabel('Nota')\n",
    "plt.ylabel('Estudiantes')\n",
    "\n",
    "# Parcial 2\n",
    "plt.subplot(1, 3, 2)\n",
    "counts, bins = np.histogram(df['Parcial 2'].dropna(), bins=10)\n",
    "plt.bar(bins[:-1], counts, width=np.diff(bins), color='orange', edgecolor='black', align='edge')\n",
    "plt.yticks(range(0, 35, 5))\n",
    "plt.grid(axis='y', linestyle='-', alpha=0.5, color='black')\n",
    "plt.title('Distribución Parcial 2')\n",
    "\n",
    "# Final\n",
    "plt.subplot(1, 3, 3)\n",
    "counts, bins = np.histogram(df['Final'].dropna(), bins=10)\n",
    "plt.bar(bins[:-1], counts, width=np.diff(bins), color='green', edgecolor='black', align='edge')\n",
    "plt.yticks(range(0, 35, 5))\n",
    "plt.grid(axis='y', linestyle='-', alpha=0.5, color='black')\n",
    "plt.title('Distribución Final')\n",
    "\n",
    "# Ajustar y mostrar el gráfico\n",
    "plt.tight_layout()\n",
    "plt.show()\n"
   ]
  }
 ],
 "metadata": {
  "kernelspec": {
   "display_name": ".venv",
   "language": "python",
   "name": "python3"
  },
  "language_info": {
   "codemirror_mode": {
    "name": "ipython",
    "version": 3
   },
   "file_extension": ".py",
   "mimetype": "text/x-python",
   "name": "python",
   "nbconvert_exporter": "python",
   "pygments_lexer": "ipython3",
   "version": "3.13.2"
  }
 },
 "nbformat": 4,
 "nbformat_minor": 5
}
